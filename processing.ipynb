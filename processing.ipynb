{
 "cells": [
  {
   "cell_type": "code",
   "execution_count": null,
   "id": "initial_id",
   "metadata": {
    "collapsed": true
   },
   "outputs": [],
   "source": [
    "import asyncio\n",
    "import aiohttp\n",
    "\n",
    "# Function to get distance and time for a single row using aiohttp\n",
    "async def get_distance_and_time_async(session, home_lat, home_lon, office_lat, office_lon):\n",
    "    url = f\"http://router.project-osrm.org/route/v1/driving/{home_lon},{home_lat};{office_lon},{office_lat}?overview=false\"\n",
    "    \n",
    "    try:\n",
    "        async with session.get(url) as response:\n",
    "            if response.status == 200:\n",
    "                data = await response.json()\n",
    "                distance = data['routes'][0]['legs'][0]['distance'] / 1000  # Convert meters to kilometers\n",
    "                duration = data['routes'][0]['legs'][0]['duration'] / 60  # Convert seconds to minutes\n",
    "                return distance, duration\n",
    "            else:\n",
    "                return None, None\n",
    "    except Exception as e:\n",
    "        print(f\"Error fetching data: {e}\")\n",
    "        return None, None\n",
    "\n",
    "# Function to fetch distances and times concurrently with semaphore for concurrency control\n",
    "async def get_distances_and_times_concurrently(df, max_concurrent_requests=10, batch_size=100):\n",
    "    semaphore = asyncio.Semaphore(max_concurrent_requests)  # Limit concurrency\n",
    "    async with aiohttp.ClientSession() as session:\n",
    "        tasks = []\n",
    "        \n",
    "        # Create tasks for all rows in the DataFrame with semaphore\n",
    "        for _, row in df.iterrows():\n",
    "            tasks.append(get_distance_and_time_with_semaphore(semaphore, session, row['home_lat'], row['home_lon'], row['office_lat'], row['office_lon']))\n",
    "        \n",
    "        # To avoid too many tasks being created at once, we'll process them in smaller batches.\n",
    "        results = []\n",
    "        for i in range(0, len(tasks), batch_size):\n",
    "            batch = tasks[i:i + batch_size]\n",
    "            results.extend(await asyncio.gather(*batch))  # Gather the batch results\n",
    "        \n",
    "        return results\n",
    "\n",
    "# Function to wrap the async request with semaphore\n",
    "async def get_distance_and_time_with_semaphore(semaphore, session, home_lat, home_lon, office_lat, office_lon):\n",
    "    async with semaphore:  # This ensures that only a limited number of requests are sent concurrently\n",
    "        return await get_distance_and_time_async(session, home_lat, home_lon, office_lat, office_lon)\n",
    "\n",
    "# Function to run the main async function\n",
    "async def main():\n",
    "    # Assuming df_extracted_700 is your DataFrame\n",
    "    distances_times = await get_distances_and_times_concurrently(df_extracted_700, max_concurrent_requests=20, batch_size=100)\n",
    "    \n",
    "    # Filter out None values if any API calls failed\n",
    "    distances_times = [result for result in distances_times if result != (None, None)]\n",
    "    \n",
    "    # Add the results to the DataFrame\n",
    "    df_extracted_700['Distance'] = [result[0] for result in distances_times]\n",
    "    df_extracted_700['Baseline_time'] = [result[1] for result in distances_times]\n",
    "    \n",
    "    # Display the updated dataframe\n",
    "    print(df_extracted_700.head())\n",
    "\n",
    "# Run the async main function inside an event loop\n",
    "if __name__ == \"__main__\":\n",
    "    await main()\n"
   ]
  }
 ],
 "metadata": {
  "kernelspec": {
   "display_name": "Python 3",
   "language": "python",
   "name": "python3"
  },
  "language_info": {
   "codemirror_mode": {
    "name": "ipython",
    "version": 2
   },
   "file_extension": ".py",
   "mimetype": "text/x-python",
   "name": "python",
   "nbconvert_exporter": "python",
   "pygments_lexer": "ipython2",
   "version": "2.7.6"
  }
 },
 "nbformat": 4,
 "nbformat_minor": 5
}
